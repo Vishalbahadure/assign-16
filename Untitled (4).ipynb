{
 "cells": [
  {
   "cell_type": "markdown",
   "id": "02ed73fe-4208-463e-b525-10a7e0eff10c",
   "metadata": {},
   "source": [
    "Q1. What is a database? Differentiate between SQL and NoSQL databases.\n",
    "A database is a structured collection of data that is organized and stored in a way that allows for efficient retrieval, management, and manipulation of data. It serves as a central repository for storing and managing data for various applications.\n",
    "\n",
    "Now, let's differentiate between SQL and NoSQL databases:\n",
    "\n",
    "SQL Databases: SQL (Structured Query Language) databases are based on the relational model. They use tables to store data, with each table consisting of rows and columns. SQL databases are known for their strong consistency, ACID (Atomicity, Consistency, Isolation, Durability) properties, and well-defined schemas. They are suitable for complex and structured data, and are widely used in traditional enterprise applications.\n",
    "Example of SQL databases: MySQL, PostgreSQL, Oracle.\n",
    "\n",
    "NoSQL Databases: NoSQL (Not Only SQL) databases are designed to handle large volumes of unstructured and semi-structured data. They provide flexible schemas and are horizontally scalable, making them suitable for handling big data and real-time applications. NoSQL databases offer high availability, scalability, and fault tolerance, but sacrifice some of the consistency guarantees provided by SQL databases.\n",
    "Example of NoSQL databases: MongoDB, Cassandra, Redis.\n",
    "\n",
    "In summary, SQL databases are ideal for structured and complex data, while NoSQL databases are better suited for handling unstructured and semi-structured data at scale. The choice between SQL and NoSQL depends on the specific requirements of your application, such as data structure, scalability, and performance needs."
   ]
  },
  {
   "cell_type": "markdown",
   "id": "4fd557aa-de0a-405d-93d5-810902c0747b",
   "metadata": {},
   "source": [
    "Q2. What is DDL? Explain why CREATE, DROP, ALTER, and TRUNCATE are used with an example.\n",
    "DDL, or Data Definition Language, is a subset of SQL (Structured Query Language) that is used to define and manage the structure of a database. It allows us to create, modify, and delete database objects such as tables, views, indexes, and constraints.\n",
    "\n",
    "The CREATE operation is used to create new database objects. For example, we can create a new table called \"employees\" with columns for \"id\", \"name\", and \"salary\" using the following SQL statement:\n",
    "CREATE TABLE employees (\n",
    "    id INT PRIMARY KEY,\n",
    "    name VARCHAR(50),\n",
    "    salary DECIMAL(10, 2)\n",
    ");\n",
    "\n",
    "The DROP operation is used to delete existing database objects. For instance, if we want to delete the \"employees\" table, we can use the following SQL statement:\n",
    "DROP TABLE employees;\n",
    "\n",
    "The ALTER operation is used to modify the structure of an existing database object. For example, if we want to add a new column called \"department\" to the \"employees\" table, we can use the following SQL statement:\n",
    "ALTER TABLE employees\n",
    "ADD COLUMN department VARCHAR(50);\n",
    "\n",
    "The TRUNCATE operation is used to delete all the data from a table while keeping its structure intact. It is faster than the DELETE operation as it does not generate individual delete statements for each row. For instance, if we want to remove all the data from the \"employees\" table, we can use the following SQL statement:\n",
    "TRUNCATE TABLE employees;\n"
   ]
  },
  {
   "cell_type": "markdown",
   "id": "cc03ee74-e701-45e0-bdce-d2c82dc66de3",
   "metadata": {},
   "source": [
    "Q3. What is DML? Explain INSERT, UPDATE, and DELETE with an example.\n",
    "DML, or Data Manipulation Language, is a subset of SQL (Structured Query Language) that allows us to manipulate data within a database. It consists of various operations, including INSERT, UPDATE, and DELETE, which are used to add, modify, and remove data from database tables.\n",
    "INSERT: The INSERT operation is used to add new records into a table. It allows us to specify the values for each column or provide a SELECT statement to retrieve data from another table. Here's an example:\n",
    "INSERT INTO employees (id, name, age, salary) VALUES (1, 'John Doe', 30, 50000);\n",
    "\n",
    "UPDATE: The UPDATE operation is used to modify existing records in a table. It allows us to set new values for one or more columns based on specified conditions. Here's an example:\n",
    "UPDATE employees SET salary = 55000 WHERE id = 1;\n",
    "\n",
    "DELETE: The DELETE operation is used to remove records from a table based on specified conditions. Here's an example:\n",
    "DELETE FROM employees WHERE age > 40;\n"
   ]
  },
  {
   "cell_type": "markdown",
   "id": "752bef1e-0461-41e7-ba40-94a21ad67568",
   "metadata": {},
   "source": [
    "Q4. What is DQL? Explain SELECT with an example.\n",
    "DQL, or Data Query Language, is a subset of SQL (Structured Query Language) that is used to retrieve and manipulate data from a database. It includes commands such as SELECT, INSERT, UPDATE, and DELETE.\n",
    "\n",
    "The SELECT statement is one of the most commonly used commands in DQL. It is used to retrieve data from one or more tables in a database. The basic syntax of the SELECT statement is as follows:\n",
    "SELECT name, salary\n",
    "FROM employees\n",
    "WHERE age > 30;\n"
   ]
  },
  {
   "cell_type": "markdown",
   "id": "4a166cca-2424-4266-8d3c-7df9e412de1b",
   "metadata": {},
   "source": [
    "Q5. Explain Primary Key and Foreign Key.\n",
    "In database design, primary keys and foreign keys are essential concepts that help establish relationships between tables.\n",
    "\n",
    "A primary key is a unique identifier for each record in a table. It ensures that each row in the table is uniquely identifiable. The primary key can be a single column or a combination of columns. It is used to enforce data integrity and provide a way to uniquely identify records in a table. For example, in a table of employees, the primary key could be the employee ID.\n",
    "\n",
    "A foreign key, on the other hand, is a column or a set of columns in a table that refers to the primary key of another table. It establishes a relationship between two tables, known as the parent table and the child table. The foreign key in the child table references the primary key in the parent table. This relationship allows data to be linked and ensures referential integrity. For example, in a table of orders, the foreign key could be the customer ID, which references the primary key of the customers table.\n",
    "\n",
    "Foreign keys help maintain data consistency and integrity by enforcing referential integrity constraints. They ensure that data in the child table corresponds to existing data in the parent table. If a foreign key references a non-existent primary key, the database will prevent the insertion or update of the record, maintaining data integrity"
   ]
  },
  {
   "cell_type": "markdown",
   "id": "86eed9e6-1bd9-4e57-a266-9f4243e24b63",
   "metadata": {},
   "source": [
    "Q6. Write a python code to connect MySQL to python. Explain the cursor() and execute() method.\n",
    "import mysql.connector\n",
    "mydb = mysql.connector.connect(\n",
    "  host=\"localhost\",\n",
    "  user=\"yourusername\",\n",
    "  password=\"yourpassword\",\n",
    "  database=\"yourdatabase\"\n",
    ")\n",
    "\n",
    "cursor = mydb.cursor()\n",
    "query = \"SELECT * FROM customers\"\n",
    "cursor.execute(query)\n",
    "\n",
    "cursor.close()\n",
    "mydb.close()\n"
   ]
  },
  {
   "cell_type": "code",
   "execution_count": null,
   "id": "7b3a1e33-00bd-4203-ad56-5fbe2ed201a4",
   "metadata": {},
   "outputs": [],
   "source": []
  }
 ],
 "metadata": {
  "kernelspec": {
   "display_name": "Python 3 (ipykernel)",
   "language": "python",
   "name": "python3"
  },
  "language_info": {
   "codemirror_mode": {
    "name": "ipython",
    "version": 3
   },
   "file_extension": ".py",
   "mimetype": "text/x-python",
   "name": "python",
   "nbconvert_exporter": "python",
   "pygments_lexer": "ipython3",
   "version": "3.10.8"
  }
 },
 "nbformat": 4,
 "nbformat_minor": 5
}
